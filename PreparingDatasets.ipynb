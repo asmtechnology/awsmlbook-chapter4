{
 "cells": [
  {
   "cell_type": "markdown",
   "metadata": {},
   "source": [
    "# load datasets"
   ]
  },
  {
   "cell_type": "code",
   "execution_count": 2,
   "metadata": {},
   "outputs": [],
   "source": [
    "%matplotlib inline\n",
    "import matplotlib.pyplot as plt\n",
    "\n",
    "import numpy as np\n",
    "import pandas as pd\n",
    "import os\n",
    "\n",
    "# iris dataset\n",
    "from sklearn.datasets import load_iris\n",
    "iris_dataset = load_iris()\n",
    "df_iris_features = pd.DataFrame(data = iris_dataset.data, columns=iris_dataset.feature_names)\n",
    "df_iris_target = pd.DataFrame(data = iris_dataset.target, columns=['class'])\n",
    "\n",
    "# Pima Indians Diabetes dataset\n",
    "diabetes_dataset_file = './datasets/diabetes_dataset/diabetes.csv'\n",
    "df_diabetes = pd.read_csv(diabetes_dataset_file)\n",
    "df_diabetes_target = df_diabetes.loc[:,['Outcome']]\n",
    "df_diabetes_features = df_diabetes.drop(['Outcome'], axis=1)\n",
    "\n",
    "# UCI ML Wines dataset\n",
    "from sklearn.datasets import load_wine\n",
    "wine_dataset = load_wine()\n",
    "df_wine_features = pd.DataFrame(data = wine_dataset.data, columns=wine_dataset.feature_names)\n",
    "df_wine_target = pd.DataFrame(data = wine_dataset.target, columns=['class'])"
   ]
  },
  {
   "cell_type": "markdown",
   "metadata": {},
   "source": [
    "# creating a training and validation set"
   ]
  },
  {
   "cell_type": "code",
   "execution_count": 3,
   "metadata": {},
   "outputs": [],
   "source": [
    "\n",
    "# using Scikit-Learn's train_test_split function.\n",
    "from sklearn.model_selection import train_test_split\n",
    "\n",
    "# iris dataset\n",
    "iris_split = train_test_split(df_iris_features, df_iris_target, \n",
    "                              test_size=0.25, random_state=17)\n",
    "df_iris_features_train = iris_split[0]\n",
    "df_iris_features_test = iris_split[1]\n",
    "df_iris_target_train = iris_split[2]\n",
    "df_iris_target_test = iris_split[3]\n",
    "\n",
    "# diabetes datset\n",
    "diabetes_split = train_test_split(df_diabetes_features, df_diabetes_target, \n",
    "                                  test_size=0.25, random_state=17)\n",
    "df_diabetes_features_train = diabetes_split[0]\n",
    "df_diabetes_features_test = diabetes_split[1]\n",
    "df_diabetes_target_train = diabetes_split[2]\n",
    "df_diabetes_target_test = diabetes_split[3]\n",
    "\n",
    "# wines dataset\n",
    "wines_split = train_test_split(df_wine_features, df_wine_target, \n",
    "                               test_size=0.25, random_state=17)\n",
    "df_wine_features_train = wines_split[0]\n",
    "df_wine_features_test = wines_split[1]\n",
    "df_wine_target_train = wines_split[2]\n",
    "df_wine_target_test = wines_split[3]\n",
    "\n",
    "\n",
    "\n",
    "\n",
    "# iris dataset, with stratified sampling\n",
    "iris_split_strat = train_test_split(df_iris_features, df_iris_target, \n",
    "                                    test_size=0.25, random_state=17, stratify=df_iris_target)\n",
    "df_iris_features_train2 = iris_split_strat[0]\n",
    "df_iris_features_test2 = iris_split_strat[1]\n",
    "df_iris_target_train2 = iris_split_strat[2]\n",
    "df_iris_target_test2 = iris_split_strat[3]\n",
    "\n",
    "# diabetes dataset, with stratified sampling\n",
    "diabetes_split_strat = train_test_split(df_diabetes_features, df_diabetes_target, \n",
    "                                        test_size=0.25, random_state=17, stratify=df_diabetes_target)\n",
    "df_diabetes_features_train2 = diabetes_split_strat[0]\n",
    "df_diabetes_features_test2 = diabetes_split_strat[1]\n",
    "df_diabetes_target_train2 = diabetes_split_strat[2]\n",
    "df_diabetes_target_test2 = diabetes_split_strat[3]\n",
    "\n",
    "# wines dataset, with stratified sampling\n",
    "wines_split_strat = train_test_split(df_wine_features, df_wine_target, \n",
    "                                     test_size=0.25, random_state=17, stratify=df_wine_target)\n",
    "df_wine_features_train2 = wines_split_strat[0]\n",
    "df_wine_features_test2 = wines_split_strat[1]\n",
    "df_wine_target_train2 = wines_split_strat[2]\n",
    "df_wine_target_test2 = wines_split_strat[3]\n",
    "\n"
   ]
  },
  {
   "cell_type": "code",
   "execution_count": 4,
   "metadata": {},
   "outputs": [
    {
     "data": {
      "text/plain": [
       "((150, 4), (150, 1))"
      ]
     },
     "execution_count": 4,
     "metadata": {},
     "output_type": "execute_result"
    }
   ],
   "source": [
    "df_iris_features.shape, df_iris_target.shape"
   ]
  },
  {
   "cell_type": "code",
   "execution_count": 5,
   "metadata": {},
   "outputs": [
    {
     "data": {
      "text/plain": [
       "((112, 4), (112, 1))"
      ]
     },
     "execution_count": 5,
     "metadata": {},
     "output_type": "execute_result"
    }
   ],
   "source": [
    "df_iris_features_train.shape, df_iris_target_train.shape"
   ]
  },
  {
   "cell_type": "code",
   "execution_count": 6,
   "metadata": {},
   "outputs": [
    {
     "data": {
      "text/plain": [
       "((38, 4), (38, 1))"
      ]
     },
     "execution_count": 6,
     "metadata": {},
     "output_type": "execute_result"
    }
   ],
   "source": [
    "df_iris_features_test.shape, df_iris_target_test.shape"
   ]
  },
  {
   "cell_type": "code",
   "execution_count": 7,
   "metadata": {},
   "outputs": [
    {
     "data": {
      "text/html": [
       "<div>\n",
       "<style scoped>\n",
       "    .dataframe tbody tr th:only-of-type {\n",
       "        vertical-align: middle;\n",
       "    }\n",
       "\n",
       "    .dataframe tbody tr th {\n",
       "        vertical-align: top;\n",
       "    }\n",
       "\n",
       "    .dataframe thead th {\n",
       "        text-align: right;\n",
       "    }\n",
       "</style>\n",
       "<table border=\"1\" class=\"dataframe\">\n",
       "  <thead>\n",
       "    <tr style=\"text-align: right;\">\n",
       "      <th></th>\n",
       "      <th>sepal length (cm)</th>\n",
       "      <th>sepal width (cm)</th>\n",
       "      <th>petal length (cm)</th>\n",
       "      <th>petal width (cm)</th>\n",
       "    </tr>\n",
       "  </thead>\n",
       "  <tbody>\n",
       "    <tr>\n",
       "      <th>0</th>\n",
       "      <td>5.1</td>\n",
       "      <td>3.5</td>\n",
       "      <td>1.4</td>\n",
       "      <td>0.2</td>\n",
       "    </tr>\n",
       "    <tr>\n",
       "      <th>1</th>\n",
       "      <td>4.9</td>\n",
       "      <td>3.0</td>\n",
       "      <td>1.4</td>\n",
       "      <td>0.2</td>\n",
       "    </tr>\n",
       "    <tr>\n",
       "      <th>2</th>\n",
       "      <td>4.7</td>\n",
       "      <td>3.2</td>\n",
       "      <td>1.3</td>\n",
       "      <td>0.2</td>\n",
       "    </tr>\n",
       "    <tr>\n",
       "      <th>3</th>\n",
       "      <td>4.6</td>\n",
       "      <td>3.1</td>\n",
       "      <td>1.5</td>\n",
       "      <td>0.2</td>\n",
       "    </tr>\n",
       "    <tr>\n",
       "      <th>4</th>\n",
       "      <td>5.0</td>\n",
       "      <td>3.6</td>\n",
       "      <td>1.4</td>\n",
       "      <td>0.2</td>\n",
       "    </tr>\n",
       "  </tbody>\n",
       "</table>\n",
       "</div>"
      ],
      "text/plain": [
       "   sepal length (cm)  sepal width (cm)  petal length (cm)  petal width (cm)\n",
       "0                5.1               3.5                1.4               0.2\n",
       "1                4.9               3.0                1.4               0.2\n",
       "2                4.7               3.2                1.3               0.2\n",
       "3                4.6               3.1                1.5               0.2\n",
       "4                5.0               3.6                1.4               0.2"
      ]
     },
     "execution_count": 7,
     "metadata": {},
     "output_type": "execute_result"
    }
   ],
   "source": [
    "df_iris_features.head()"
   ]
  },
  {
   "cell_type": "code",
   "execution_count": 8,
   "metadata": {},
   "outputs": [
    {
     "data": {
      "text/html": [
       "<div>\n",
       "<style scoped>\n",
       "    .dataframe tbody tr th:only-of-type {\n",
       "        vertical-align: middle;\n",
       "    }\n",
       "\n",
       "    .dataframe tbody tr th {\n",
       "        vertical-align: top;\n",
       "    }\n",
       "\n",
       "    .dataframe thead th {\n",
       "        text-align: right;\n",
       "    }\n",
       "</style>\n",
       "<table border=\"1\" class=\"dataframe\">\n",
       "  <thead>\n",
       "    <tr style=\"text-align: right;\">\n",
       "      <th></th>\n",
       "      <th>sepal length (cm)</th>\n",
       "      <th>sepal width (cm)</th>\n",
       "      <th>petal length (cm)</th>\n",
       "      <th>petal width (cm)</th>\n",
       "    </tr>\n",
       "  </thead>\n",
       "  <tbody>\n",
       "    <tr>\n",
       "      <th>71</th>\n",
       "      <td>6.1</td>\n",
       "      <td>2.8</td>\n",
       "      <td>4.0</td>\n",
       "      <td>1.3</td>\n",
       "    </tr>\n",
       "    <tr>\n",
       "      <th>34</th>\n",
       "      <td>4.9</td>\n",
       "      <td>3.1</td>\n",
       "      <td>1.5</td>\n",
       "      <td>0.2</td>\n",
       "    </tr>\n",
       "    <tr>\n",
       "      <th>95</th>\n",
       "      <td>5.7</td>\n",
       "      <td>3.0</td>\n",
       "      <td>4.2</td>\n",
       "      <td>1.2</td>\n",
       "    </tr>\n",
       "    <tr>\n",
       "      <th>75</th>\n",
       "      <td>6.6</td>\n",
       "      <td>3.0</td>\n",
       "      <td>4.4</td>\n",
       "      <td>1.4</td>\n",
       "    </tr>\n",
       "    <tr>\n",
       "      <th>48</th>\n",
       "      <td>5.3</td>\n",
       "      <td>3.7</td>\n",
       "      <td>1.5</td>\n",
       "      <td>0.2</td>\n",
       "    </tr>\n",
       "  </tbody>\n",
       "</table>\n",
       "</div>"
      ],
      "text/plain": [
       "    sepal length (cm)  sepal width (cm)  petal length (cm)  petal width (cm)\n",
       "71                6.1               2.8                4.0               1.3\n",
       "34                4.9               3.1                1.5               0.2\n",
       "95                5.7               3.0                4.2               1.2\n",
       "75                6.6               3.0                4.4               1.4\n",
       "48                5.3               3.7                1.5               0.2"
      ]
     },
     "execution_count": 8,
     "metadata": {},
     "output_type": "execute_result"
    }
   ],
   "source": [
    "df_iris_features_train.head()"
   ]
  },
  {
   "cell_type": "code",
   "execution_count": 9,
   "metadata": {},
   "outputs": [
    {
     "data": {
      "text/plain": [
       "<matplotlib.axes._subplots.AxesSubplot at 0x1a18582898>"
      ]
     },
     "execution_count": 9,
     "metadata": {},
     "output_type": "execute_result"
    },
    {
     "data": {
      "image/png": "[encoded data removed]",
      "text/plain": [
       "<Figure size 1080x360 with 3 Axes>"
      ]
     },
     "metadata": {
      "needs_background": "light"
     },
     "output_type": "display_data"
    }
   ],
   "source": [
    "# visualize the distribution of target values in the\n",
    "# original titanic dataset and the training sets created by the train_test_split \n",
    "# function, with and without stratification\n",
    "\n",
    "# use Pandas dataframe functions to plot a bar chart of the 'Embarked' attribute\n",
    "fig, axes = plt.subplots(1, 3, figsize=(15,5))\n",
    "\n",
    "axes[0].set_title('df_iris_target')\n",
    "df_iris_target['class'].value_counts(dropna=False).plot.bar(grid=True, ax=axes[0])\n",
    "\n",
    "axes[1].set_title('df_iris_target_train')\n",
    "df_iris_target_train['class'].value_counts(dropna=False).plot.bar(grid=True, ax=axes[1])\n",
    "\n",
    "axes[2].set_title('df_iris_target_train2')\n",
    "df_iris_target_train2['class'].value_counts(dropna=False).plot.bar(grid=True, ax=axes[2])"
   ]
  },
  {
   "cell_type": "code",
   "execution_count": 10,
   "metadata": {},
   "outputs": [
    {
     "data": {
      "text/plain": [
       "<matplotlib.axes._subplots.AxesSubplot at 0x1a1886a828>"
      ]
     },
     "execution_count": 10,
     "metadata": {},
     "output_type": "execute_result"
    },
    {
     "data": {
      "image/png": "[encoded data removed]",
      "text/plain": [
       "<Figure size 1080x360 with 3 Axes>"
      ]
     },
     "metadata": {
      "needs_background": "light"
     },
     "output_type": "display_data"
    }
   ],
   "source": [
    "# visualize the distribution of target values in the\n",
    "# original diabetes dataset and the training sets created by the train_test_split \n",
    "# function, with and without stratification\n",
    "\n",
    "# use Pandas dataframe functions to plot a bar chart of the 'Embarked' attribute\n",
    "fig, axes = plt.subplots(1, 3, figsize=(15,5))\n",
    "\n",
    "axes[0].set_title('df_diabetes_target')\n",
    "df_diabetes_target['Outcome'].value_counts(dropna=False).plot.bar(grid=True, ax=axes[0])\n",
    "\n",
    "axes[1].set_title('df_diabetes_target_train')\n",
    "df_diabetes_target_train['Outcome'].value_counts(dropna=False).plot.bar(grid=True, ax=axes[1])\n",
    "\n",
    "axes[2].set_title('df_diabetes_target_train2')\n",
    "df_diabetes_target_train2['Outcome'].value_counts(dropna=False).plot.bar(grid=True, ax=axes[2])"
   ]
  },
  {
   "cell_type": "code",
   "execution_count": 11,
   "metadata": {},
   "outputs": [
    {
     "data": {
      "text/plain": [
       "<matplotlib.axes._subplots.AxesSubplot at 0x1a18a936d8>"
      ]
     },
     "execution_count": 11,
     "metadata": {},
     "output_type": "execute_result"
    },
    {
     "data": {
      "image/png": "[encoded data removed]",
      "text/plain": [
       "<Figure size 1080x360 with 3 Axes>"
      ]
     },
     "metadata": {
      "needs_background": "light"
     },
     "output_type": "display_data"
    }
   ],
   "source": [
    "# visualize the distribution of target values in the\n",
    "# original wines dataset and the training sets created by the train_test_split \n",
    "# function, with and without stratification\n",
    "\n",
    "# use Pandas dataframe functions to plot a bar chart of the 'Embarked' attribute\n",
    "fig, axes = plt.subplots(1, 3, figsize=(15,5))\n",
    "\n",
    "axes[0].set_title('df_wine_target')\n",
    "df_wine_target['class'].value_counts(dropna=False).plot.bar(grid=True, ax=axes[0])\n",
    "\n",
    "axes[1].set_title('df_wine_target_train')\n",
    "df_wine_target_train['class'].value_counts(dropna=False).plot.bar(grid=True, ax=axes[1])\n",
    "\n",
    "axes[2].set_title('df_wine_target_train2')\n",
    "df_wine_target_train2['class'].value_counts(dropna=False).plot.bar(grid=True, ax=axes[2])"
   ]
  },
  {
   "cell_type": "markdown",
   "metadata": {},
   "source": [
    "# k-fold cross validation"
   ]
  },
  {
   "cell_type": "code",
   "execution_count": 28,
   "metadata": {},
   "outputs": [
    {
     "name": "stdout",
     "output_type": "stream",
     "text": [
      "Fold number: 1\n",
      "Training indices: [  0   1   2   3   4   5   6   7   8   9  10  11  12  13  14  15  16  18\n",
      "  19  20  21  22  23  26  27  28  29  31  32  33  34  35  36  38  39  41\n",
      "  42  43  44  46  47  48  49  50  51  52  53  54  55  56  57  58  59  60\n",
      "  61  62  63  64  65  66  68  69  70  71  72  73  74  75  76  77  78  79\n",
      "  80  82  83  84  85  86  87  88  89  90  91  94  95  96  97  98  99 100\n",
      " 101 102 103 104 105 106 107 108 109 110 111 112 113 114 115 116 117 118\n",
      " 120 121 122 123 124 125 127 128 129 130 131 132 133 134 135 136 137 138\n",
      " 139 140 141 142 143 145 146 147 148]\n",
      "Testing indices:: [ 17  24  25  30  37  40  45  67  81  92  93 119 126 144 149]\n",
      "Fold number: 2\n",
      "Training indices: [  1   2   3   4   5   6   7   8   9  10  12  13  14  16  17  18  19  20\n",
      "  21  22  23  24  25  26  27  28  29  30  31  32  34  35  36  37  39  40\n",
      "  41  42  43  44  45  46  47  48  50  51  52  53  55  56  57  58  59  60\n",
      "  61  62  63  64  65  67  68  69  70  71  73  74  75  76  77  78  80  81\n",
      "  83  84  85  86  87  88  89  91  92  93  94  95  96  97  98  99 100 101\n",
      " 102 103 104 105 106 107 109 110 111 112 113 114 115 116 117 118 119 120\n",
      " 121 122 123 124 125 126 128 130 131 132 133 134 135 136 137 138 139 140\n",
      " 141 142 143 144 145 146 147 148 149]\n",
      "Testing indices:: [  0  11  15  33  38  49  54  66  72  79  82  90 108 127 129]\n",
      "Fold number: 3\n",
      "Training indices: [  0   1   2   3   4   5   6   7   9  10  11  12  13  14  15  16  17  18\n",
      "  19  20  22  23  24  25  26  27  28  30  31  33  34  35  36  37  38  39\n",
      "  40  41  42  44  45  46  47  48  49  50  51  53  54  56  57  58  59  60\n",
      "  61  62  64  65  66  67  68  69  70  71  72  73  74  75  76  77  79  80\n",
      "  81  82  83  85  87  88  89  90  92  93  94  95  96  97  98  99 100 101\n",
      " 102 103 104 105 106 107 108 109 110 111 112 114 115 116 117 118 119 120\n",
      " 121 122 123 124 125 126 127 128 129 130 131 133 134 135 136 137 138 140\n",
      " 141 142 143 144 145 146 147 148 149]\n",
      "Testing indices:: [  8  21  29  32  43  52  55  63  78  84  86  91 113 132 139]\n",
      "Fold number: 4\n",
      "Training indices: [  0   1   2   3   5   7   8   9  10  11  13  14  15  16  17  18  19  20\n",
      "  21  22  23  24  25  26  27  28  29  30  31  32  33  34  35  36  37  38\n",
      "  40  41  42  43  44  45  46  47  48  49  50  51  52  53  54  55  56  57\n",
      "  58  59  60  61  62  63  64  65  66  67  68  70  71  72  73  75  76  77\n",
      "  78  79  80  81  82  83  84  85  86  87  88  89  90  91  92  93  94  95\n",
      "  96  97  98  99 101 102 104 105 106 107 108 109 110 111 113 114 116 117\n",
      " 118 119 121 122 123 124 126 127 128 129 131 132 133 134 135 136 137 139\n",
      " 140 141 143 144 145 146 147 148 149]\n",
      "Testing indices:: [  4   6  12  39  69  74 100 103 112 115 120 125 130 138 142]\n",
      "Fold number: 5\n",
      "Training indices: [  0   1   2   3   4   5   6   7   8  11  12  13  14  15  16  17  18  19\n",
      "  20  21  22  23  24  25  26  27  28  29  30  31  32  33  34  35  36  37\n",
      "  38  39  40  42  43  44  45  46  47  48  49  50  51  52  53  54  55  57\n",
      "  58  59  60  61  62  63  66  67  69  70  71  72  73  74  75  76  77  78\n",
      "  79  80  81  82  83  84  85  86  89  90  91  92  93  94  95  96  97  98\n",
      "  99 100 101 103 104 106 107 108 109 110 111 112 113 114 115 116 117 119\n",
      " 120 122 123 124 125 126 127 128 129 130 131 132 133 134 135 137 138 139\n",
      " 140 141 142 143 144 145 146 148 149]\n",
      "Testing indices:: [  9  10  41  56  64  65  68  87  88 102 105 118 121 136 147]\n",
      "Fold number: 6\n",
      "Training indices: [  0   1   2   4   5   6   7   8   9  10  11  12  13  14  15  16  17  18\n",
      "  19  20  21  22  23  24  25  26  27  28  29  30  32  33  34  35  37  38\n",
      "  39  40  41  42  43  44  45  46  47  48  49  50  51  52  53  54  55  56\n",
      "  57  58  59  60  61  63  64  65  66  67  68  69  70  71  72  73  74  75\n",
      "  76  78  79  80  81  82  83  84  85  86  87  88  90  91  92  93  94  95\n",
      "  96  99 100 102 103 104 105 108 109 110 112 113 114 115 117 118 119 120\n",
      " 121 122 123 124 125 126 127 128 129 130 131 132 134 135 136 137 138 139\n",
      " 141 142 143 144 145 146 147 148 149]\n",
      "Testing indices:: [  3  31  36  62  77  89  97  98 101 106 107 111 116 133 140]\n",
      "Fold number: 7\n",
      "Training indices: [  0   1   2   3   4   5   6   7   8   9  10  11  12  13  14  15  17  18\n",
      "  19  20  21  22  24  25  27  28  29  30  31  32  33  34  35  36  37  38\n",
      "  39  40  41  42  43  44  45  46  47  48  49  50  51  52  53  54  55  56\n",
      "  58  59  60  61  62  63  64  65  66  67  68  69  72  73  74  75  76  77\n",
      "  78  79  80  81  82  83  84  86  87  88  89  90  91  92  93  95  96  97\n",
      "  98  99 100 101 102 103 105 106 107 108 109 111 112 113 114 115 116 117\n",
      " 118 119 120 121 123 124 125 126 127 128 129 130 131 132 133 136 137 138\n",
      " 139 140 141 142 144 145 146 147 149]\n",
      "Testing indices:: [ 16  23  26  57  70  71  85  94 104 110 122 134 135 143 148]\n",
      "Fold number: 8\n",
      "Training indices: [  0   1   2   3   4   5   6   7   8   9  10  11  12  13  15  16  17  18\n",
      "  20  21  22  23  24  25  26  28  29  30  31  32  33  34  35  36  37  38\n",
      "  39  40  41  43  44  45  46  48  49  50  51  52  53  54  55  56  57  58\n",
      "  59  60  61  62  63  64  65  66  67  68  69  70  71  72  73  74  77  78\n",
      "  79  80  81  82  83  84  85  86  87  88  89  90  91  92  93  94  95  97\n",
      "  98 100 101 102 103 104 105 106 107 108 109 110 111 112 113 115 116 118\n",
      " 119 120 121 122 125 126 127 129 130 131 132 133 134 135 136 137 138 139\n",
      " 140 142 143 144 145 146 147 148 149]\n",
      "Testing indices:: [ 14  19  27  42  47  75  76  96  99 114 117 123 124 128 141]\n",
      "Fold number: 9\n",
      "Training indices: [  0   2   3   4   5   6   7   8   9  10  11  12  13  14  15  16  17  19\n",
      "  20  21  23  24  25  26  27  29  30  31  32  33  35  36  37  38  39  40\n",
      "  41  42  43  45  47  49  50  52  53  54  55  56  57  59  60  61  62  63\n",
      "  64  65  66  67  68  69  70  71  72  74  75  76  77  78  79  80  81  82\n",
      "  83  84  85  86  87  88  89  90  91  92  93  94  96  97  98  99 100 101\n",
      " 102 103 104 105 106 107 108 110 111 112 113 114 115 116 117 118 119 120\n",
      " 121 122 123 124 125 126 127 128 129 130 132 133 134 135 136 138 139 140\n",
      " 141 142 143 144 145 146 147 148 149]\n",
      "Testing indices:: [  1  18  22  28  34  44  46  48  51  58  73  95 109 131 137]\n",
      "Fold number: 10\n",
      "Training indices: [  0   1   3   4   6   8   9  10  11  12  14  15  16  17  18  19  21  22\n",
      "  23  24  25  26  27  28  29  30  31  32  33  34  36  37  38  39  40  41\n",
      "  42  43  44  45  46  47  48  49  51  52  54  55  56  57  58  62  63  64\n",
      "  65  66  67  68  69  70  71  72  73  74  75  76  77  78  79  81  82  84\n",
      "  85  86  87  88  89  90  91  92  93  94  95  96  97  98  99 100 101 102\n",
      " 103 104 105 106 107 108 109 110 111 112 113 114 115 116 117 118 119 120\n",
      " 121 122 123 124 125 126 127 128 129 130 131 132 133 134 135 136 137 138\n",
      " 139 140 141 142 143 144 147 148 149]\n",
      "Testing indices:: [  2   5   7  13  20  35  50  53  59  60  61  80  83 145 146]\n"
     ]
    }
   ],
   "source": [
    "# perform 10-fold split on the Iris dataset\n",
    "\n",
    "from sklearn.model_selection import KFold\n",
    "kf = KFold(n_splits=10, shuffle=True)\n",
    "\n",
    "fold_number = 1\n",
    "for train_indices, test_indices in kf.split(df_iris_features):\n",
    "    \n",
    "    print(\"Fold number:\", fold_number)\n",
    "    print(\"Training indices:\", train_indices)\n",
    "    print(\"Testing indices::\", test_indices)\n",
    "    \n",
    "    fold_number = fold_number + 1\n",
    "    \n",
    "    df_iris_features_train = df_iris_features.iloc[train_index]\n",
    "    df_iris_target_train = df_iris_target.iloc[train_index]\n",
    "    \n",
    "    df_iris_features_test = df_iris_features.iloc[test_index]\n",
    "    df_iris_target_test = df_iris_target.iloc[test_index]\n"
   ]
  },
  {
   "cell_type": "code",
   "execution_count": null,
   "metadata": {},
   "outputs": [],
   "source": []
  }
 ],
 "metadata": {
  "kernelspec": {
   "display_name": "Python (AWS_ML_Book)",
   "language": "python",
   "name": "aws_ml_book"
  },
  "language_info": {
   "codemirror_mode": {
    "name": "ipython",
    "version": 3
   },
   "file_extension": ".py",
   "mimetype": "text/x-python",
   "name": "python",
   "nbconvert_exporter": "python",
   "pygments_lexer": "ipython3",
   "version": "3.6.8"
  }
 },
 "nbformat": 4,
 "nbformat_minor": 2
}
